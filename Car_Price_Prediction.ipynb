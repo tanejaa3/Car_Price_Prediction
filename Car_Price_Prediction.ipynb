{
 "cells": [
  {
   "cell_type": "code",
   "execution_count": null,
   "metadata": {},
   "outputs": [],
   "source": [
    "# Importing Libraries\n",
    "import pandas as pd\n",
    "import numpy as np\n",
    "import matplotlib.pyplot as plt\n",
    "import seaborn as sns\n",
    "\n",
    "from IPython.core.interactiveshell import InteractiveShell\n",
    "InteractiveShell.ast_node_interactivity = \"all\""
   ]
  },
  {
   "cell_type": "code",
   "execution_count": null,
   "metadata": {},
   "outputs": [],
   "source": [
    "# Importing ML Libraries\n",
    "from sklearn.ensemble import ExtraTreesRegressor\n",
    "from sklearn.model_selection import train_test_split,RandomizedSearchCV\n",
    "\n",
    "from sklearn.linear_model import LinearRegression\n",
    "from sklearn.tree import DecisionTreeRegressor\n",
    "from sklearn.ensemble import RandomForestRegressor,AdaBoostRegressor,GradientBoostingRegressor\n",
    "\n",
    "from sklearn.metrics import mean_squared_error"
   ]
  },
  {
   "cell_type": "code",
   "execution_count": null,
   "metadata": {},
   "outputs": [],
   "source": [
    "# Importing dataset\n",
    "cars_data = pd.read_csv('car data.csv')"
   ]
  },
  {
   "cell_type": "code",
   "execution_count": null,
   "metadata": {},
   "outputs": [],
   "source": [
    "cars_data.head()"
   ]
  },
  {
   "cell_type": "code",
   "execution_count": null,
   "metadata": {},
   "outputs": [],
   "source": [
    "# Data Housekeeping\n",
    "\n",
    "cars_data['Fuel_Type'].unique()\n",
    "cars_data['Seller_Type'].unique()\n",
    "cars_data['Transmission'].unique()\n",
    "cars_data['Owner'].unique()"
   ]
  },
  {
   "cell_type": "code",
   "execution_count": null,
   "metadata": {},
   "outputs": [],
   "source": [
    "# Check for Missing values\n",
    "cars_data.isna().sum()"
   ]
  },
  {
   "cell_type": "code",
   "execution_count": null,
   "metadata": {},
   "outputs": [],
   "source": [
    "# Subtracting current year with mentioned year and just keeping data-engineered variable and also dropping car model\n",
    "\n",
    "cars_data['Current_Year'] = 2020\n",
    "cars_models = cars_data['Car_Name']\n",
    "cars_data['#_of_Years'] = cars_data['Current_Year']-cars_data['Year']\n",
    "cars_data = cars_data.drop(['Year','Current_Year','Car_Name'],1)\n",
    "cars_data = pd.get_dummies(cars_data,drop_first=True)"
   ]
  },
  {
   "cell_type": "code",
   "execution_count": null,
   "metadata": {},
   "outputs": [],
   "source": [
    "# HeatMap Co-relation\n",
    "df = cars_data.copy()\n",
    "\n",
    "features = df.columns\n",
    "\n",
    "mask = np.zeros_like(df[features].corr(), dtype=np.bool) \n",
    "mask[np.triu_indices_from(mask)] = True \n",
    "\n",
    "f, ax = plt.subplots(figsize=(16, 12))\n",
    "plt.title('Pearson Correlation Matrix',fontsize=25)\n",
    "\n",
    "sns.heatmap(df[features].corr(),linewidths=0.25,vmax=0.7,square=True,cmap=\"YlOrBr\",\n",
    "linecolor='w',annot=True,annot_kws={\"size\":8},mask=mask,cbar_kws={\"shrink\": .9});"
   ]
  },
  {
   "cell_type": "code",
   "execution_count": null,
   "metadata": {},
   "outputs": [],
   "source": [
    "# Independent and Dependent Variables\n",
    "X = cars_data.drop(columns=['Selling_Price'])\n",
    "Y = cars_data['Selling_Price']"
   ]
  },
  {
   "cell_type": "code",
   "execution_count": null,
   "metadata": {},
   "outputs": [],
   "source": [
    "# Feature importance\n",
    "extra_reg = ExtraTreesRegressor()\n",
    "extra_reg.fit(X,Y)"
   ]
  },
  {
   "cell_type": "code",
   "execution_count": null,
   "metadata": {},
   "outputs": [],
   "source": [
    "# Feature Importance of diff features\n",
    "pd.DataFrame(index=X.columns,data=extra_reg.feature_importances_,columns=['Importance']).sort_values(by='Importance',ascending=True).plot(kind='barh')"
   ]
  },
  {
   "cell_type": "code",
   "execution_count": null,
   "metadata": {},
   "outputs": [],
   "source": [
    "# Train and Test split\n",
    "xtrain,xtest,ytrain,ytest = train_test_split(X,Y,test_size=0.3,random_state=0)"
   ]
  },
  {
   "cell_type": "code",
   "execution_count": null,
   "metadata": {},
   "outputs": [],
   "source": [
    "# Shape check\n",
    "xtrain.shape\n",
    "xtest.shape"
   ]
  },
  {
   "cell_type": "code",
   "execution_count": null,
   "metadata": {},
   "outputs": [],
   "source": [
    "# Linear Regression\n",
    "model = LinearRegression()\n",
    "model = model.fit(xtrain,ytrain)\n",
    "pred = model.predict(xtest)\n",
    "\n",
    "np.sqrt(mean_squared_error(ytest,pred))"
   ]
  },
  {
   "cell_type": "code",
   "execution_count": null,
   "metadata": {},
   "outputs": [],
   "source": [
    "# Decision Tree \n",
    "model = DecisionTreeRegressor(random_state=0)\n",
    "model = model.fit(xtrain,ytrain)\n",
    "pred = model.predict(xtest)\n",
    "\n",
    "np.sqrt(mean_squared_error(ytest,pred))"
   ]
  },
  {
   "cell_type": "code",
   "execution_count": null,
   "metadata": {},
   "outputs": [],
   "source": [
    "# Random Forest \n",
    "model = RandomForestRegressor(random_state=0)\n",
    "model = model.fit(xtrain,ytrain)\n",
    "pred = model.predict(xtest)\n",
    "\n",
    "np.sqrt(mean_squared_error(ytest,pred))"
   ]
  },
  {
   "cell_type": "code",
   "execution_count": null,
   "metadata": {},
   "outputs": [],
   "source": [
    "# Tuned Model - Random Forest using RandomSearchCV\n",
    "\n",
    "n_estimators      =  [int(x) for x in np.linspace(100,1000,10)]\n",
    "max_depth         =  [int(x) for x in np.linspace(5,30,6)]\n",
    "min_samples_split =  [2,5,10,15,20]\n",
    "min_samples_leaf  =  [1,2,5,10]\n",
    "\n",
    "# Random grid\n",
    "parameters = {  'n_estimators':n_estimators,\n",
    "                'max_depth': max_depth,\n",
    "                'min_samples_split' : min_samples_split,\n",
    "                'min_samples_leaf' : min_samples_leaf       \n",
    "            }\n",
    "\n",
    "rf = RandomForestRegressor(random_state=0)\n",
    "random_search = RandomizedSearchCV(estimator=rf,param_distributions=parameters,n_iter=10,cv=10,verbose=1,scoring='neg_mean_squared_error')\n",
    "random_search = random_search.fit(xtrain,ytrain)\n",
    "\n",
    "random_search_tuned = random_search.best_estimator_\n",
    "\n",
    "model_tuned = random_search_tuned.fit(xtrain,ytrain)\n",
    "pred = model_tuned.predict(xtest)\n",
    "\n",
    "np.sqrt(mean_squared_error(ytest,pred))"
   ]
  },
  {
   "cell_type": "code",
   "execution_count": null,
   "metadata": {},
   "outputs": [],
   "source": [
    "# Pickle the tuned model\n",
    "import pickle\n",
    "file = open('rf_regressor_tuned_model','wb')\n",
    "pickle.dump(model_tuned,file)"
   ]
  }
 ],
 "metadata": {
  "kernelspec": {
   "display_name": "Python 3",
   "language": "python",
   "name": "python3"
  },
  "language_info": {
   "codemirror_mode": {
    "name": "ipython",
    "version": 3
   },
   "file_extension": ".py",
   "mimetype": "text/x-python",
   "name": "python",
   "nbconvert_exporter": "python",
   "pygments_lexer": "ipython3",
   "version": "3.6.4"
  }
 },
 "nbformat": 4,
 "nbformat_minor": 2
}
